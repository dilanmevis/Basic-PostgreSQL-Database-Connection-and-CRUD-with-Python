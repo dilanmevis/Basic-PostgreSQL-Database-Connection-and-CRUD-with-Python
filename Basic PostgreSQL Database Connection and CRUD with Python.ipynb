{
 "cells": [
  {
   "cell_type": "code",
   "execution_count": 6,
   "id": "c9003b89",
   "metadata": {},
   "outputs": [],
   "source": [
    "#pip install psycopg2\n",
    "import psycopg2"
   ]
  },
  {
   "cell_type": "code",
   "execution_count": 2,
   "id": "e0a1ac0f",
   "metadata": {},
   "outputs": [],
   "source": [
    "#connect to your database\n",
    "connection = psycopg2.connect(host=\"your_host\",\n",
    "                              port=\"your_port\",\n",
    "                              database=\"your_Demo\",\n",
    "                              user=\"user_name\",\n",
    "                              password=\"password\")\n",
    "\n",
    "connection.autocommit = True\n",
    "cursor = connection.cursor()"
   ]
  },
  {
   "cell_type": "code",
   "execution_count": 4,
   "id": "af2fe25b",
   "metadata": {},
   "outputs": [],
   "source": [
    "#Create a new database named ‘piyon’ in PostgreSQL\n",
    "query = \"create database piyon\"\n",
    "cursor.execute(query)\n"
   ]
  },
  {
   "cell_type": "code",
   "execution_count": 5,
   "id": "34b72c5a",
   "metadata": {},
   "outputs": [],
   "source": [
    "#Creating a database in the database\n",
    "\n",
    "query_create_table = \"\"\"\n",
    "create table if not exists cars(\n",
    "id serial primary key,\n",
    "name text not null,\n",
    "model integer,\n",
    "number text,\n",
    "colour text,\n",
    "company text\n",
    ")\"\"\"\n",
    "\n",
    "cursor.execute(query_create_table)"
   ]
  },
  {
   "cell_type": "code",
   "execution_count": 6,
   "id": "53029853",
   "metadata": {},
   "outputs": [],
   "source": [
    "#Inserting Multiple Rows into Database Table\n",
    "cars = [(\"Aqua\",2009,\"ABC123\",\"Red\",\"Toyota\"),\n",
    "            (\"700s\",2015,\"XXXX22\",\"Black\",\"BMW\"),\n",
    "            (\"Vezel\",2018,\"XXX111\",\"White\",\"Honda\"),\n",
    "            (\"200C\",2001,\"MMM11\",\"Black\",\"Mercedes\"),\n",
    "            (\"Vitz\",2010,\"XXXX\",\"Red\",\"Toyota\"),\n",
    "        ]\n",
    "car_record = \", \".join([\"%s\"]* len(cars))\n",
    "\n",
    "query_insert = (\n",
    "        f\"insert into cars (name,model,number, colour, company)values{car_record}\"\n",
    "        )\n",
    "cursor.execute(query_insert, cars)\n",
    "\n"
   ]
  },
  {
   "cell_type": "code",
   "execution_count": 7,
   "id": "5ee111d9",
   "metadata": {},
   "outputs": [],
   "source": [
    "#Alternatively, we can write the insert query like this.\n",
    "query_insert = (\n",
    "    \"insert into cars (name, model, number, colour, company) \"\n",
    "    \"values \"\n",
    "    \"('Aqua',2009,'ABC123','Red','Toyota'), \"\n",
    "    \"('700s',2015,'XXXX22','Black','BMW'), \"\n",
    "    \"('Vezel',2018,'XXX111','White','Honda'), \"\n",
    "    \"('200C',2001,'MMM11','Black','Mercedes'), \"\n",
    "    \"('Vitz',2010,'XXXX','Red','Toyota')\"\n",
    ")\n"
   ]
  },
  {
   "cell_type": "code",
   "execution_count": 8,
   "id": "c34b9ac7",
   "metadata": {},
   "outputs": [
    {
     "name": "stdout",
     "output_type": "stream",
     "text": [
      "(4, '200C', 2001, 'MMM11', 'Black', 'Mercedes')\n",
      "(9, '200C', 2001, 'MMM11', 'Black', 'Mercedes')\n",
      "(14, '200C', 2001, 'MMM11', 'Black', 'Mercedes')\n",
      "(19, '200C', 2001, 'MMM11', 'Black', 'Mercedes')\n",
      "(24, '200C', 2001, 'MMM11', 'Black', 'Mercedes')\n",
      "(2, '700s', 2015, 'XXXX22', 'Blue', 'BMW')\n",
      "(3, 'Vezel', 2018, 'XXX111', 'Blue', 'Honda')\n",
      "(5, 'Vitz', 20010, 'XXXX', 'Blue', 'Toyota')\n",
      "(7, '700s', 2015, 'XXXX22', 'Blue', 'BMW')\n",
      "(8, 'Vezel', 2018, 'XXX111', 'Blue', 'Honda')\n",
      "(10, 'Vitz', 20010, 'XXXX', 'Blue', 'Toyota')\n",
      "(12, '700s', 2015, 'XXXX22', 'Blue', 'BMW')\n",
      "(13, 'Vezel', 2018, 'XXX111', 'Blue', 'Honda')\n",
      "(17, '700s', 2015, 'XXXX22', 'Blue', 'BMW')\n",
      "(18, 'Vezel', 2018, 'XXX111', 'Blue', 'Honda')\n",
      "(22, '700s', 2015, 'XXXX22', 'Blue', 'BMW')\n",
      "(23, 'Vezel', 2018, 'XXX111', 'Blue', 'Honda')\n",
      "(25, 'Vitz', 2010, 'XXXX', 'Blue', 'Toyota')\n",
      "(26, 'Aqua', 2009, 'ABC123', 'Red', 'Toyota')\n",
      "(27, '700s', 2015, 'XXXX22', 'Black', 'BMW')\n",
      "(28, 'Vezel', 2018, 'XXX111', 'White', 'Honda')\n",
      "(29, '200C', 2001, 'MMM11', 'Black', 'Mercedes')\n",
      "(30, 'Vitz', 2010, 'XXXX', 'Red', 'Toyota')\n"
     ]
    }
   ],
   "source": [
    "#Fetch and Display All Records from the Cars Table\n",
    "query_select = \"select * from cars\"\n",
    "cursor.execute(query_select)\n",
    "cars= cursor.fetchall()\n",
    "for car in cars:\n",
    "    print(car)"
   ]
  },
  {
   "cell_type": "code",
   "execution_count": 9,
   "id": "82eb7403",
   "metadata": {},
   "outputs": [],
   "source": [
    "#update\n",
    "query_update = \"\"\"\n",
    "update cars\n",
    "set colour = 'Blue'\n",
    "where model >= 2010\n",
    "\"\"\"\n",
    "cursor.execute(query_update)"
   ]
  },
  {
   "cell_type": "code",
   "execution_count": 10,
   "id": "cdf503b6",
   "metadata": {},
   "outputs": [],
   "source": [
    "#delete\n",
    "query_delete = \"Delete from cars where colour= 'Red'\"\n",
    "cursor.execute(query_delete)"
   ]
  },
  {
   "cell_type": "code",
   "execution_count": null,
   "id": "a3a7a717",
   "metadata": {},
   "outputs": [],
   "source": []
  }
 ],
 "metadata": {
  "kernelspec": {
   "display_name": "Python 3 (ipykernel)",
   "language": "python",
   "name": "python3"
  },
  "language_info": {
   "codemirror_mode": {
    "name": "ipython",
    "version": 3
   },
   "file_extension": ".py",
   "mimetype": "text/x-python",
   "name": "python",
   "nbconvert_exporter": "python",
   "pygments_lexer": "ipython3",
   "version": "3.11.5"
  }
 },
 "nbformat": 4,
 "nbformat_minor": 5
}
